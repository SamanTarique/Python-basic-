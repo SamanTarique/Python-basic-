{
 "cells": [
  {
   "cell_type": "markdown",
   "id": "41ea4464",
   "metadata": {},
   "source": [
    "## -*- STRINGS & CONDITIONAL STATEMENTS -*-"
   ]
  },
  {
   "cell_type": "markdown",
   "metadata": {},
   "source": [
    "## STRINGS\n",
    "\n",
    "**Definition:**  \n",
    "A string is a data type that stores a sequence of characters.  \n",
    "Strings can be created using single quotes or double quotes.\n",
    "\n",
    "### Basic Operations on Strings\n",
    "\n",
    "1. **Concatenation**\n",
    "   - `\"Hello\" + \"World\"` → `\"HelloWorld\"`\n",
    "\n",
    "2. **Repetition**\n",
    "   - `\"a\" * 5` → `\"aaaaa\"`\n",
    "\n",
    "3. **Indexing and Slicing**\n",
    "   - `s[0]` → `'H'`\n",
    "   - `s[-1]` → `'o'`\n",
    "   - `s[0:5]` → `\"Hello\"`\n",
    "   - `s[:5]` → `\"Hello\"`\n",
    "   - `s[6:]` → `\"World\"`\n",
    "   - `s[:]` → `\"Hello World\"`\n",
    "   - `s[:-1]` → `\"Hello Worl\"`\n",
    "   - `s[::-1]` → `\"dlroW olleH\"`\n",
    "\n",
    "4. **Membership Testing**\n",
    "   - `'w' in s` → `True`\n",
    "   - `'z' not in s` → `True`\n",
    "\n",
    "5. **Length**\n",
    "   - `len(s)` → `11`\n",
    "\n",
    "6. **Iteration**\n",
    "   ```python\n",
    "   for c in s:\n",
    "       print(c)\n",
    "   ```\n",
    "\n",
    "7. **String Methods**\n",
    "   - `s.upper()` → `\"HELLO WORLD\"`\n",
    "   - `s.lower()` → `\"hello world\"`\n",
    "   - `s.title()` → `\"Hello World\"`\n",
    "   - `s.capitalize()` → `\"Hello world\"`\n",
    "   - `s.swapcase()` → `\"hELLO wORLD\"`\n",
    "   - `s.strip()` → `\"Hello World\"`\n",
    "   - `s.lstrip()` → `\"Hello World \"`\n",
    "   - `s.rstrip()` → `\" Hello World\"`\n",
    "   - `s.replace('o', 'x')` → `\"Hellx Wxrld\"`\n",
    "   - `s.split(' ')` → `['Hello', 'World']`\n",
    "   - `' '.join(['Hello', 'World'])` → `\"Hello World\"`\n",
    "\n",
    "8. **Formatting**\n",
    "   ```python\n",
    "   print(\"My name is {} and I am {}\".format(name, age))\n",
    "   ```\n",
    "\n",
    "9. **Escape Sequences**\n",
    "   - `\\n` - newline  \n",
    "   - `\\t` - tab  \n",
    "   - `\\\\` - backslash  \n",
    "   - `\\'` - single quote  \n",
    "   - `\\\"` - double quote "
   ]
  },
  {
   "cell_type": "code",
   "execution_count": 2,
   "id": "d09458cf",
   "metadata": {},
   "outputs": [],
   "source": [
    "str1 = \"this is a string\"\n",
    "str2 = 'this is also a string'\n",
    "str3 = \"\"\"This is a multi linee string\"\"\""
   ]
  },
  {
   "cell_type": "code",
   "execution_count": 3,
   "id": "433ca133",
   "metadata": {},
   "outputs": [
    {
     "name": "stdout",
     "output_type": "stream",
     "text": [
      "this is a string\n"
     ]
    }
   ],
   "source": [
    "print(str1)"
   ]
  },
  {
   "cell_type": "code",
   "execution_count": 4,
   "id": "104b5f35",
   "metadata": {},
   "outputs": [
    {
     "name": "stdout",
     "output_type": "stream",
     "text": [
      "this is also a string\n"
     ]
    }
   ],
   "source": [
    "print(str2)"
   ]
  },
  {
   "cell_type": "code",
   "execution_count": 5,
   "id": "b46f4cbc",
   "metadata": {},
   "outputs": [
    {
     "name": "stdout",
     "output_type": "stream",
     "text": [
      "This is a multi linee string\n"
     ]
    }
   ],
   "source": [
    "print(str3)"
   ]
  },
  {
   "cell_type": "code",
   "execution_count": 6,
   "id": "419a335e",
   "metadata": {},
   "outputs": [
    {
     "ename": "SyntaxError",
     "evalue": "unterminated string literal (detected at line 1) (1034930590.py, line 1)",
     "output_type": "error",
     "traceback": [
      "\u001b[1;36m  Cell \u001b[1;32mIn[6], line 1\u001b[1;36m\u001b[0m\n\u001b[1;33m    str1 = \"This is a string.\u001b[0m\n\u001b[1;37m           ^\u001b[0m\n\u001b[1;31mSyntaxError\u001b[0m\u001b[1;31m:\u001b[0m unterminated string literal (detected at line 1)\n"
     ]
    }
   ],
   "source": [
    "str1 = \"This is a string.\n",
    "we are creating it in python .\""
   ]
  },
  {
   "cell_type": "markdown",
   "id": "9b82bc3d",
   "metadata": {},
   "source": [
    "now for this if we have to give nex tline in a sting we use escape sequence character"
   ]
  },
  {
   "cell_type": "markdown",
   "id": "3d6ac867",
   "metadata": {},
   "source": [
    "escape sequence character\n",
    "- print(\"hello \\\"world\\\" world\")\n",
    "- print('i\\'m shubham')\n",
    "- print(\"line A \\n line B\")\n",
    "- print(\"name\\tshubham\")\n",
    "- print(\"this is backslash\\\\\")\n",
    "- #backslash escape sequence character\n",
    "- print(\"hell\\blo\")"
   ]
  },
  {
   "cell_type": "code",
   "execution_count": 7,
   "id": "9152e59a",
   "metadata": {},
   "outputs": [],
   "source": [
    "str1=\"This is a string. \\nwe are creating it in python.\""
   ]
  },
  {
   "cell_type": "code",
   "execution_count": 8,
   "id": "a464ea00",
   "metadata": {},
   "outputs": [
    {
     "name": "stdout",
     "output_type": "stream",
     "text": [
      "This is a string. \n",
      "we are creating it in python.\n"
     ]
    }
   ],
   "source": [
    "print(str1)"
   ]
  },
  {
   "cell_type": "code",
   "execution_count": 9,
   "id": "79ce8009",
   "metadata": {},
   "outputs": [],
   "source": [
    "str1=\"This is a string. \\t we are creating it in python.\""
   ]
  },
  {
   "cell_type": "code",
   "execution_count": 10,
   "id": "29a4f444",
   "metadata": {},
   "outputs": [
    {
     "name": "stdout",
     "output_type": "stream",
     "text": [
      "This is a string. \t we are creating it in python.\n"
     ]
    }
   ],
   "source": [
    "print(str1)"
   ]
  },
  {
   "cell_type": "markdown",
   "id": "b54d239b",
   "metadata": {},
   "source": [
    "## STRINGS\n",
    "\n",
    "* BASIC OPERATIONS \n",
    "\n",
    "    * Concatenation: +\n",
    "    * Repetition: *\n",
    "    * Indexing and slicing: [], [:]\n",
    "    * Membership test: in, not in\n",
    "    * String methods: str.lower(), str.upper(), str.strip(), etc."
   ]
  },
  {
   "cell_type": "markdown",
   "id": "f3a72a90",
   "metadata": {},
   "source": [
    "### CONCATENATION\n",
    "\"Hello\" + \"World\" -> HelloWorld"
   ]
  },
  {
   "cell_type": "code",
   "execution_count": 13,
   "id": "95a9ae4e",
   "metadata": {},
   "outputs": [
    {
     "name": "stdout",
     "output_type": "stream",
     "text": [
      "VarnitKumar\n",
      "Varnit Kumar\n",
      "VarnitKumar\n"
     ]
    }
   ],
   "source": [
    "str1=\"Varnit\"\n",
    "str2=\"Kumar\"\n",
    "final_string = str1+str2\n",
    "print(str1+str2)\n",
    "print(str1 + \" \" + str2)\n",
    "print(final_string)"
   ]
  },
  {
   "cell_type": "markdown",
   "id": "8d89b691",
   "metadata": {},
   "source": [
    "### Length of string(str\n",
    "\n",
    "* len(str)\n",
    "* str = \"Hello World\"\n",
    "print(len(str))))"
   ]
  },
  {
   "cell_type": "code",
   "execution_count": 14,
   "id": "f1462b39",
   "metadata": {},
   "outputs": [
    {
     "name": "stdout",
     "output_type": "stream",
     "text": [
      "VarnitKumar\n",
      "Varnit Kumar\n",
      "VarnitKumar\n",
      "6\n"
     ]
    }
   ],
   "source": [
    "str1=\"Varnit\"\n",
    "str2=\"Kumar\"\n",
    "final_string = str1+str2\n",
    "print(str1+str2)\n",
    "print(str1 + \" \" + str2)\n",
    "print(final_string) \n",
    "print(len(str1))\n"
   ]
  },
  {
   "cell_type": "code",
   "execution_count": 16,
   "id": "41c693c6",
   "metadata": {},
   "outputs": [
    {
     "name": "stdout",
     "output_type": "stream",
     "text": [
      "11\n"
     ]
    }
   ],
   "source": [
    "len1 = len(final_string)\n",
    "print(len1)"
   ]
  },
  {
   "cell_type": "markdown",
   "id": "3fd549a0",
   "metadata": {},
   "source": [
    "### INDEXING \n",
    "```\n",
    "  V A R N I T K U M A R\n",
    "  0 2 3 4 5 6 7 8 9 10 11\n",
    "  -10 -9 -8 -7 -6 -5 -4 -3 -2 -1\n",
    "```\n",
    "\n",
    "- str=\"Varnit Kumar\"\n",
    "- str[0] is 'V',str[1] is 'A' and so on.\n",
    "- str[-1] is 'R', str[-2] is 'U'."
   ]
  },
  {
   "cell_type": "code",
   "execution_count": 24,
   "id": "e4fc660a",
   "metadata": {},
   "outputs": [
    {
     "name": "stdout",
     "output_type": "stream",
     "text": [
      "12\n",
      "V\n"
     ]
    }
   ],
   "source": [
    "str = \"Varnit Kumar\"\n",
    "print(len(str))\n",
    "ch = str[0]\n",
    "print(ch)"
   ]
  },
  {
   "cell_type": "code",
   "execution_count": 18,
   "id": "fbe8d98a",
   "metadata": {},
   "outputs": [
    {
     "name": "stdout",
     "output_type": "stream",
     "text": [
      "V\n"
     ]
    }
   ],
   "source": [
    "print(str[0])"
   ]
  },
  {
   "cell_type": "code",
   "execution_count": 21,
   "id": "9d67fd02",
   "metadata": {},
   "outputs": [
    {
     "name": "stdout",
     "output_type": "stream",
     "text": [
      " \n",
      "K\n"
     ]
    }
   ],
   "source": [
    "print(str[-6])\n",
    "print(str[-5])"
   ]
  },
  {
   "cell_type": "code",
   "execution_count": 23,
   "id": "7a5de323",
   "metadata": {},
   "outputs": [
    {
     "name": "stdout",
     "output_type": "stream",
     "text": [
      "V\n",
      "a\n",
      "r\n",
      "n\n",
      "i\n",
      "t\n",
      " \n",
      "K\n",
      "u\n",
      "m\n",
      "a\n",
      "r\n"
     ]
    }
   ],
   "source": [
    "print(str[-12])\n",
    "print(str[-11])\n",
    "print(str[-10])\n",
    "print(str[-9])\n",
    "print(str[-8])\n",
    "print(str[-7])\n",
    "print(str[-6])\n",
    "print(str[-5])\n",
    "print(str[-4])\n",
    "print(str[-3])\n",
    "print(str[-2])\n",
    "print(str[-1])"
   ]
  },
  {
   "cell_type": "markdown",
   "id": "2ba2db2d",
   "metadata": {},
   "source": [
    "## SLICING\n",
    "Accessing parts of a string\n",
    "```\n",
    "str[starting_index:ending_index]\n",
    "str = \"Hello World\"\n",
    "print(str[0])\n",
    "print(str[:5]) #prints Hello\n",
    "print(str[-1]) #prints last character\n",
    "```"
   ]
  },
  {
   "cell_type": "code",
   "execution_count": 27,
   "id": "afda1d5a",
   "metadata": {},
   "outputs": [
    {
     "name": "stdout",
     "output_type": "stream",
     "text": [
      "arn\n"
     ]
    }
   ],
   "source": [
    "str = \"Varnit Kumar\"\n",
    "a = str[1:4]\n",
    "print(a)"
   ]
  },
  {
   "cell_type": "code",
   "execution_count": 28,
   "id": "475373ba",
   "metadata": {},
   "outputs": [
    {
     "name": "stdout",
     "output_type": "stream",
     "text": [
      "Varni\n"
     ]
    }
   ],
   "source": [
    "print(str[0:5])"
   ]
  },
  {
   "cell_type": "code",
   "execution_count": 29,
   "id": "312e0764",
   "metadata": {},
   "outputs": [
    {
     "name": "stdout",
     "output_type": "stream",
     "text": [
      "arnit Kumar\n"
     ]
    }
   ],
   "source": [
    "print(str[1:])"
   ]
  },
  {
   "cell_type": "code",
   "execution_count": 30,
   "id": "89a2706e",
   "metadata": {},
   "outputs": [
    {
     "name": "stdout",
     "output_type": "stream",
     "text": [
      "Varnit K\n"
     ]
    }
   ],
   "source": [
    "print(str[ :8])"
   ]
  },
  {
   "cell_type": "code",
   "execution_count": 31,
   "id": "92152ff3",
   "metadata": {},
   "outputs": [
    {
     "name": "stdout",
     "output_type": "stream",
     "text": [
      "nit Kumar\n"
     ]
    }
   ],
   "source": [
    "print(str[3:len(str)])"
   ]
  },
  {
   "cell_type": "code",
   "execution_count": 34,
   "id": "9625334c",
   "metadata": {},
   "outputs": [
    {
     "name": "stdout",
     "output_type": "stream",
     "text": [
      "Varnit \n",
      "Kumar\n"
     ]
    }
   ],
   "source": [
    "print(str[:7])\n",
    "print(str[7:])"
   ]
  },
  {
   "cell_type": "code",
   "execution_count": 40,
   "id": "a5fed153",
   "metadata": {},
   "outputs": [
    {
     "name": "stdout",
     "output_type": "stream",
     "text": [
      "Varnit\n",
      " Kumar\n"
     ]
    }
   ],
   "source": [
    "print(str[-12:-6])\n",
    "print(str[-6:])"
   ]
  },
  {
   "cell_type": "markdown",
   "id": "d14461b0",
   "metadata": {},
   "source": [
    "### STRING FUNTIONS\n"
   ]
  },
  {
   "cell_type": "code",
   "execution_count": 57,
   "id": "6b5da206",
   "metadata": {},
   "outputs": [],
   "source": [
    "str = \"i am coder.\""
   ]
  },
  {
   "cell_type": "code",
   "execution_count": 43,
   "id": "26a77adb",
   "metadata": {},
   "outputs": [
    {
     "data": {
      "text/plain": [
       "True"
      ]
     },
     "execution_count": 43,
     "metadata": {},
     "output_type": "execute_result"
    }
   ],
   "source": [
    "str.endswith(\"er.\")"
   ]
  },
  {
   "cell_type": "code",
   "execution_count": 58,
   "id": "6f5588db",
   "metadata": {},
   "outputs": [
    {
     "data": {
      "text/plain": [
       "'I am coder.'"
      ]
     },
     "execution_count": 58,
     "metadata": {},
     "output_type": "execute_result"
    }
   ],
   "source": [
    "str.capitalize()"
   ]
  },
  {
   "cell_type": "code",
   "execution_count": 59,
   "id": "46af0dc5",
   "metadata": {},
   "outputs": [
    {
     "name": "stdout",
     "output_type": "stream",
     "text": [
      "i am coder.\n"
     ]
    }
   ],
   "source": [
    "print(str)"
   ]
  },
  {
   "cell_type": "code",
   "execution_count": 60,
   "id": "f7425708",
   "metadata": {},
   "outputs": [
    {
     "name": "stdout",
     "output_type": "stream",
     "text": [
      "I am coder.\n"
     ]
    }
   ],
   "source": [
    "str=str.capitalize()\n",
    "print(str)"
   ]
  },
  {
   "cell_type": "code",
   "execution_count": 49,
   "id": "765057f9",
   "metadata": {},
   "outputs": [
    {
     "data": {
      "text/plain": [
       "'I am good coder.'"
      ]
     },
     "execution_count": 49,
     "metadata": {},
     "output_type": "execute_result"
    }
   ],
   "source": [
    "str.replace(\"coder\", \"good coder\")"
   ]
  },
  {
   "cell_type": "code",
   "execution_count": 50,
   "id": "195e7d8e",
   "metadata": {},
   "outputs": [
    {
     "data": {
      "text/plain": [
       "5"
      ]
     },
     "execution_count": 50,
     "metadata": {},
     "output_type": "execute_result"
    }
   ],
   "source": [
    "str.find(\"coder\")"
   ]
  },
  {
   "cell_type": "code",
   "execution_count": 51,
   "id": "e5d467c4",
   "metadata": {},
   "outputs": [
    {
     "data": {
      "text/plain": [
       "0"
      ]
     },
     "execution_count": 51,
     "metadata": {},
     "output_type": "execute_result"
    }
   ],
   "source": [
    "str.find(\"I\")"
   ]
  },
  {
   "cell_type": "code",
   "execution_count": 52,
   "id": "23b8ce7d",
   "metadata": {},
   "outputs": [
    {
     "data": {
      "text/plain": [
       "1"
      ]
     },
     "execution_count": 52,
     "metadata": {},
     "output_type": "execute_result"
    }
   ],
   "source": [
    "str.find(\" \")"
   ]
  },
  {
   "cell_type": "code",
   "execution_count": 53,
   "id": "fcc612c3",
   "metadata": {},
   "outputs": [
    {
     "data": {
      "text/plain": [
       "1"
      ]
     },
     "execution_count": 53,
     "metadata": {},
     "output_type": "execute_result"
    }
   ],
   "source": [
    "str.count(\"am\")"
   ]
  },
  {
   "cell_type": "code",
   "execution_count": 56,
   "id": "03b5916a",
   "metadata": {},
   "outputs": [
    {
     "name": "stdout",
     "output_type": "stream",
     "text": [
      "I am coder.\n"
     ]
    }
   ],
   "source": [
    "print(str)"
   ]
  },
  {
   "cell_type": "code",
   "execution_count": 55,
   "id": "f4fd6097",
   "metadata": {},
   "outputs": [
    {
     "data": {
      "text/plain": [
       "1"
      ]
     },
     "execution_count": 55,
     "metadata": {},
     "output_type": "execute_result"
    }
   ],
   "source": [
    "str.count(\"o\")"
   ]
  },
  {
   "cell_type": "code",
   "execution_count": null,
   "id": "b40986a5",
   "metadata": {},
   "outputs": [],
   "source": []
  },
  {
   "cell_type": "markdown",
   "id": "13a669c7",
   "metadata": {},
   "source": [
    "## LETS PRACTICE\n",
    "- Q1 WAP To input user's first name & print it's length"
   ]
  },
  {
   "cell_type": "code",
   "execution_count": 62,
   "id": "1d4854ff",
   "metadata": {},
   "outputs": [
    {
     "name": "stdout",
     "output_type": "stream",
     "text": [
      "Varnit Kumar\n",
      "length fo your name is 12\n"
     ]
    }
   ],
   "source": [
    "name = input(\"Enter your name:\")\n",
    "print(name)\n",
    "print(\"length fo your name is\", len(name))"
   ]
  },
  {
   "cell_type": "markdown",
   "id": "ea8dd118",
   "metadata": {},
   "source": [
    "Q2. WAP to find the occurrence of '$'in a string"
   ]
  },
  {
   "cell_type": "code",
   "execution_count": 64,
   "id": "88251e7d",
   "metadata": {},
   "outputs": [
    {
     "name": "stdout",
     "output_type": "stream",
     "text": [
      "3\n"
     ]
    }
   ],
   "source": [
    "str = \"1$ = 100rs /n 2$ = 200rs /n 3$ = 300rs\"\n",
    "print(str.count(\"$\"))"
   ]
  },
  {
   "cell_type": "markdown",
   "id": "30c109e2",
   "metadata": {},
   "source": [
    "# CONDITIONAL STATEMENTS\n",
    "\n",
    "* if-else-is(syntax)\n",
    "```\n",
    "if(condition):\n",
    "    statement1\n",
    "elif (condition):\n",
    "    statement2\n",
    "else:\n",
    "    statementN\n",
    "```"
   ]
  },
  {
   "cell_type": "markdown",
   "id": "4c892934",
   "metadata": {},
   "source": [
    "* - If statement"
   ]
  },
  {
   "cell_type": "code",
   "execution_count": null,
   "id": "c8407ce4",
   "metadata": {},
   "outputs": [
    {
     "name": "stdout",
     "output_type": "stream",
     "text": [
      "You can vote & apply for driving license\n"
     ]
    }
   ],
   "source": [
    "age = 21\n",
    "if(age >= 18):\n",
    "    print(\"You can vote & apply for driving license\")\n",
    "    "
   ]
  },
  {
   "cell_type": "code",
   "execution_count": 68,
   "id": "15ea2401",
   "metadata": {},
   "outputs": [
    {
     "name": "stdout",
     "output_type": "stream",
     "text": [
      "You can vote \n",
      "Youcan drive\n"
     ]
    }
   ],
   "source": [
    "age = 20\n",
    "if(age >= 18):\n",
    "    print(\"You can vote \")\n",
    "    print(\"Youcan drive\")"
   ]
  },
  {
   "cell_type": "markdown",
   "id": "f2e83732",
   "metadata": {},
   "source": [
    "- ELIF Statements"
   ]
  },
  {
   "cell_type": "code",
   "execution_count": null,
   "id": "c11ceb2f",
   "metadata": {},
   "outputs": [
    {
     "name": "stdout",
     "output_type": "stream",
     "text": [
      "Go\n"
     ]
    }
   ],
   "source": [
    "light = \"Green\"\n",
    "if (light == \"Red\"):\n",
    "    print(\"Stop\")\n",
    "elif (light == \"Yellow\"):\n",
    "    print(\"Ready\")\n",
    "elif (light == \"Green\"):\n",
    "    print(\"Go\")\n",
    "\n",
    "\n",
    "\n"
   ]
  },
  {
   "cell_type": "code",
   "execution_count": 74,
   "id": "a9651e6c",
   "metadata": {},
   "outputs": [
    {
     "name": "stdout",
     "output_type": "stream",
     "text": [
      "Number is greater than 2\n",
      "Number is greater than 4\n"
     ]
    }
   ],
   "source": [
    "num = 5\n",
    "\n",
    "if(num > 2):\n",
    "    print(\"Number is greater than 2\")\n",
    "\n",
    "if(num > 4):\n",
    "    print(\"Number is greater than 4\")"
   ]
  },
  {
   "cell_type": "code",
   "execution_count": 75,
   "id": "f9815d65",
   "metadata": {},
   "outputs": [
    {
     "name": "stdout",
     "output_type": "stream",
     "text": [
      "Number is greater than 2\n"
     ]
    }
   ],
   "source": [
    "num = 5\n",
    "\n",
    "if(num > 2):\n",
    "    print(\"Number is greater than 2\")\n",
    "\n",
    "elif(num > 4):\n",
    "    print(\"Number is greater than 4\")"
   ]
  },
  {
   "cell_type": "markdown",
   "id": "f7a7062a",
   "metadata": {},
   "source": [
    "- ELSE Statement"
   ]
  },
  {
   "cell_type": "code",
   "execution_count": 77,
   "id": "21617c48",
   "metadata": {},
   "outputs": [
    {
     "name": "stdout",
     "output_type": "stream",
     "text": [
      "Light is broken\n"
     ]
    }
   ],
   "source": [
    "light = \"Blue\"\n",
    "\n",
    "if (light == \"Red\"):\n",
    "    print(\"Stop\")\n",
    "elif (light == \"Yellow\"):\n",
    "    print(\"Ready\")\n",
    "elif (light == \"Green\"):\n",
    "    print(\"Go\")\n",
    "else:\n",
    "    print(\"Light is broken\")"
   ]
  },
  {
   "cell_type": "code",
   "execution_count": 79,
   "id": "ae51d192",
   "metadata": {},
   "outputs": [
    {
     "name": "stdout",
     "output_type": "stream",
     "text": [
      "you cannot vote\n"
     ]
    }
   ],
   "source": [
    "age = 10\n",
    "if(age >= 18):\n",
    "    print(\"You can vote \")\n",
    "\n",
    "else:\n",
    "    print(\"you cannot vote\")"
   ]
  },
  {
   "cell_type": "code",
   "execution_count": 86,
   "id": "3e9f4f74",
   "metadata": {},
   "outputs": [
    {
     "name": "stdout",
     "output_type": "stream",
     "text": [
      "50\n",
      "Grade = D\n"
     ]
    }
   ],
   "source": [
    "marks = int(input(\"Enter your grade marks:\"))\n",
    "print(marks)\n",
    "\n",
    "if (marks >=90):\n",
    "    print(\"Grade = A \")\n",
    "elif(90> marks>=80):\n",
    "    print(\"Grade = B\")\n",
    "elif(80> marks>=70):\n",
    "    print(\"Grade = C\")\n",
    "else:          \n",
    "    print(\"Grade = D\")          \n"
   ]
  },
  {
   "cell_type": "code",
   "execution_count": 84,
   "id": "0fdc809d",
   "metadata": {},
   "outputs": [
    {
     "name": "stdout",
     "output_type": "stream",
     "text": [
      "89\n",
      "Grade of student is B\n"
     ]
    }
   ],
   "source": [
    "marks = int(input(\"Enter your grade marks:\"))\n",
    "print(marks)\n",
    "\n",
    "if (marks >=90):\n",
    "    Grade = \"A\"\n",
    "elif(marks<90 and marks>=80):\n",
    "    Grade =\"B\"\n",
    "elif(marks < 80 and marks>=70):\n",
    "    Grade = \"C\"\n",
    "else:          \n",
    "    Grade = \"D\"   \n",
    "\n",
    "print(\"Grade of student is\",Grade)       \n"
   ]
  },
  {
   "cell_type": "markdown",
   "id": "ae433fc7",
   "metadata": {},
   "source": [
    "# NESTING  in conditional statements\n",
    "defination of nesting is to use one condition inside another\n",
    "``` if a==1:\n",
    "    if b==2:\n",
    "        print(\"a=1 and b=2\")\n",
    "else:\n",
    "    print(\"not equal\")```\n"
   ]
  },
  {
   "cell_type": "code",
   "execution_count": 91,
   "id": "13cc1028",
   "metadata": {},
   "outputs": [
    {
     "name": "stdout",
     "output_type": "stream",
     "text": [
      "You can vote \n"
     ]
    }
   ],
   "source": [
    "age = 21\n",
    "if(age >= 18):\n",
    "    if(age >= 30):\n",
    "        print(\"You can vote and drink\")\n",
    "    else:\n",
    "        print(\"You can vote \")\n",
    "else:\n",
    "    print(\"You cannot vote\")"
   ]
  },
  {
   "cell_type": "markdown",
   "id": "06c6a3e7",
   "metadata": {},
   "source": [
    "## LET\"S PRACTICE\n",
    "- Q1 WAP to check of a number entered by the user is even or odd.\n",
    "- Q2 WAP to find the greatest of 3 numbers entered by user.\n",
    "- Q3 WAP to check if a numbee is a  multiple of 7 or not"
   ]
  },
  {
   "cell_type": "code",
   "execution_count": 94,
   "id": "89dfa5c3",
   "metadata": {},
   "outputs": [
    {
     "name": "stdout",
     "output_type": "stream",
     "text": [
      "6\n",
      "Even number\n"
     ]
    }
   ],
   "source": [
    "# Q1\n",
    "num = int(input(\"enter the number:\"))\n",
    "print(num)\n",
    "\n",
    "if(num % 2 ==0):\n",
    "    print('Even number')\n",
    "else:\n",
    "    print(\"Odd number\")"
   ]
  },
  {
   "cell_type": "code",
   "execution_count": 98,
   "id": "2a14e6dd",
   "metadata": {},
   "outputs": [
    {
     "name": "stdout",
     "output_type": "stream",
     "text": [
      "9 9 9\n",
      "c is greatest\n"
     ]
    }
   ],
   "source": [
    "#Q2 \n",
    "a = int(input(\"Enter first number:\"))\n",
    "b = int(input(\"Enter second number:\"))\n",
    "c = int(input(\"Enter third number:\"))\n",
    "print(a,b,c)\n",
    "\n",
    "if (a>b and a>c):\n",
    "    print(\"a is greatest\")\n",
    "elif (b>c):\n",
    "    print(\"b is greatest\")\n",
    "else:\n",
    "    print(\"c is greatest\")"
   ]
  },
  {
   "cell_type": "code",
   "execution_count": null,
   "id": "69fe4053",
   "metadata": {},
   "outputs": [
    {
     "name": "stdout",
     "output_type": "stream",
     "text": [
      "49\n",
      "multiple of 7\n"
     ]
    }
   ],
   "source": [
    "# Q3. Write a program to check whether a given number is an odd number or not.\n",
    "\n",
    "num = int(input(\"enter the number:\"))\n",
    "print(num)\n",
    "if (num % 7 == 0):\n",
    "    print(\"multiple of 7\")\n",
    "else:\n",
    "    print(\"not a multiple of 7\")\n"
   ]
  },
  {
   "cell_type": "code",
   "execution_count": null,
   "id": "6aafac12",
   "metadata": {},
   "outputs": [],
   "source": []
  },
  {
   "cell_type": "markdown",
   "id": "72a27211",
   "metadata": {},
   "source": []
  },
  {
   "cell_type": "markdown",
   "id": "b9872cae",
   "metadata": {},
   "source": []
  }
 ],
 "metadata": {
  "kernelspec": {
   "display_name": "base",
   "language": "python",
   "name": "python3"
  },
  "language_info": {
   "codemirror_mode": {
    "name": "ipython",
    "version": 3
   },
   "file_extension": ".py",
   "mimetype": "text/x-python",
   "name": "python",
   "nbconvert_exporter": "python",
   "pygments_lexer": "ipython3",
   "version": "3.13.5"
  }
 },
 "nbformat": 4,
 "nbformat_minor": 5
}
