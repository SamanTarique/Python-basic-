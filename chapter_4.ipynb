{
 "cells": [
  {
   "cell_type": "markdown",
   "id": "7b1ecb28",
   "metadata": {},
   "source": [
    "# Chapter 4"
   ]
  },
  {
   "cell_type": "markdown",
   "id": "b0ef4bcc",
   "metadata": {},
   "source": [
    "- # DICTIONARYS & SETS"
   ]
  },
  {
   "cell_type": "markdown",
   "id": "b41c113d",
   "metadata": {},
   "source": [
    "```Dictonaries are used to store data values in key:value pairs.\n",
    "A dictionary is a collection which is ordered*, changeable and do not allow duplicates.\n",
    "Dictionaries are written with curly brackets, and have keys and values:\n",
    "Example:\n",
    "thisdict = {\n",
    "  \"brand\": \"Ford\",\n",
    "  \"model\": \"Mustang\",\n",
    "  \"year\": 1964\n",
    "}\n",
    "print(thisdict)\n",
    "{'brand': 'Ford', 'model': 'Mustang', 'year': 1964}```"
   ]
  },
  {
   "cell_type": "code",
   "execution_count": 35,
   "id": "650ad78d",
   "metadata": {},
   "outputs": [
    {
     "name": "stdout",
     "output_type": "stream",
     "text": [
      "{'key': 'value', 'name': 'VarnitKumar', 'learning': 'Python', 'age': 20, 'is_adult': True}\n"
     ]
    }
   ],
   "source": [
    "info={\n",
    "    \"key\" : \"value\",\n",
    "    \"name\" : \"VarnitKumar\",\n",
    "    \"learning\" : \"Python\",\n",
    "    \"age\": 20,\n",
    "    \"is_adult\": True\n",
    "}\n",
    "print(info)"
   ]
  },
  {
   "cell_type": "code",
   "execution_count": 36,
   "id": "632fbd6c",
   "metadata": {},
   "outputs": [
    {
     "name": "stdout",
     "output_type": "stream",
     "text": [
      "<class 'dict'>\n",
      "{'name': 'VarnitKumar', 'subjects': ['SQL', 'Maths', 'Python'], 'topics': ('dict', 'set'), 'age': 20, 'is_adult': True}\n"
     ]
    }
   ],
   "source": [
    "lofi={\n",
    "    \"name\" : \"VarnitKumar\",\n",
    "    \"subjects\" : [\"SQL\", \"Maths\", \"Python\"],\n",
    "    \"topics\" : (\"dict\",\"set\"),\n",
    "    \"age\": 20,\n",
    "    \"is_adult\": True\n",
    "}\n",
    "print(type(lofi))\n",
    "print(lofi)"
   ]
  },
  {
   "cell_type": "code",
   "execution_count": 37,
   "id": "fe3ea911",
   "metadata": {},
   "outputs": [
    {
     "name": "stdout",
     "output_type": "stream",
     "text": [
      "VarnitKumar\n",
      "['SQL', 'Maths', 'Python']\n",
      "('dict', 'set')\n",
      "20\n",
      "True\n"
     ]
    }
   ],
   "source": [
    "print(lofi[\"name\"])\n",
    "print(lofi[\"subjects\"])\n",
    "print(lofi[\"topics\"])\n",
    "print(lofi[\"age\"])\n",
    "print(lofi[\"is_adult\"])"
   ]
  },
  {
   "cell_type": "code",
   "execution_count": 38,
   "id": "c172db36",
   "metadata": {},
   "outputs": [
    {
     "name": "stdout",
     "output_type": "stream",
     "text": [
      "Varnit\n"
     ]
    }
   ],
   "source": [
    "lofi[\"name\"] = \"Varnit\" #overwrite the value of name key\n",
    "print(lofi[\"name\"])"
   ]
  },
  {
   "cell_type": "code",
   "execution_count": 39,
   "id": "33b70cc1",
   "metadata": {},
   "outputs": [],
   "source": [
    "lofi[\"surname\"]=\"Kumar\""
   ]
  },
  {
   "cell_type": "code",
   "execution_count": 40,
   "id": "3e743fdb",
   "metadata": {},
   "outputs": [
    {
     "name": "stdout",
     "output_type": "stream",
     "text": [
      "{'name': 'Varnit', 'subjects': ['SQL', 'Maths', 'Python'], 'topics': ('dict', 'set'), 'age': 20, 'is_adult': True, 'surname': 'Kumar'}\n"
     ]
    }
   ],
   "source": [
    "print(lofi)"
   ]
  },
  {
   "cell_type": "code",
   "execution_count": 41,
   "id": "5549aa30",
   "metadata": {},
   "outputs": [
    {
     "name": "stdout",
     "output_type": "stream",
     "text": [
      "{}\n"
     ]
    }
   ],
   "source": [
    "null_dict = {}\n",
    "print(null_dict)"
   ]
  },
  {
   "cell_type": "code",
   "execution_count": 42,
   "id": "183bcb17",
   "metadata": {},
   "outputs": [
    {
     "name": "stdout",
     "output_type": "stream",
     "text": [
      "{'name': 'Varnit', 'age': 20}\n"
     ]
    }
   ],
   "source": [
    "null_dict[\"name\"] = \"Varnit\"\n",
    "null_dict[\"age\"] = 20\n",
    "print(null_dict)"
   ]
  },
  {
   "cell_type": "markdown",
   "id": "ce3c75d5",
   "metadata": {},
   "source": [
    "* ## NESTED DICTIONARY"
   ]
  },
  {
   "cell_type": "markdown",
   "id": "c9d121ff",
   "metadata": {},
   "source": [
    "nested dictionary\n",
    "```\n",
    "student = {\n",
    "    'name': 'John',\n",
    "    'age': 25,\n",
    "    'courses': ['Math', 'CompSci']\n",
    "}\n",
    "print(student['courses'])\n",
    "```"
   ]
  },
  {
   "cell_type": "code",
   "execution_count": 43,
   "id": "9788f206",
   "metadata": {},
   "outputs": [],
   "source": [
    "student={\n",
    "    \"name\": \"Varnit\",\n",
    "    \"subjects\":{\n",
    "        \"physics\": 98,\n",
    "        \"maths\": 97,\n",
    "        \"chemistry\": 96\n",
    "    }\n",
    "}"
   ]
  },
  {
   "cell_type": "code",
   "execution_count": 44,
   "id": "5685168d",
   "metadata": {},
   "outputs": [
    {
     "name": "stdout",
     "output_type": "stream",
     "text": [
      "{'name': 'Varnit', 'subjects': {'physics': 98, 'maths': 97, 'chemistry': 96}}\n"
     ]
    }
   ],
   "source": [
    "print(student)"
   ]
  },
  {
   "cell_type": "code",
   "execution_count": 45,
   "id": "8b728c09",
   "metadata": {},
   "outputs": [
    {
     "name": "stdout",
     "output_type": "stream",
     "text": [
      "{'physics': 98, 'maths': 97, 'chemistry': 96}\n"
     ]
    }
   ],
   "source": [
    "print(student[\"subjects\"])"
   ]
  },
  {
   "cell_type": "code",
   "execution_count": 46,
   "id": "7fc7ffec",
   "metadata": {},
   "outputs": [
    {
     "name": "stdout",
     "output_type": "stream",
     "text": [
      "97\n"
     ]
    }
   ],
   "source": [
    "print(student[\"subjects\"][\"maths\"])"
   ]
  },
  {
   "cell_type": "markdown",
   "id": "42978816",
   "metadata": {},
   "source": [
    "* Dictionary methods\n",
    "```\n",
    "myDict.keys()  #returns all keys\n",
    "mtDict.values() # returns all values\n",
    "myDict.items() #returns tuples of key-value pairs\n",
    "myDict.get('key') #returns value associated with the key or None if not found\n",
    "myDict.pop('key') #removes and returns the value for a given key, raises KeyError exception if not found\n",
    "myDict.clear() #clears dictionary\n",
    "myDict.update(myOtherDict) #adds items from myOtherDict to myDict\n",
    "myDict.copy() #creates shallow copy of dictionary\n",
    "```"
   ]
  },
  {
   "cell_type": "code",
   "execution_count": 47,
   "id": "5672fb35",
   "metadata": {},
   "outputs": [
    {
     "data": {
      "text/plain": [
       "dict_keys(['name', 'subjects'])"
      ]
     },
     "execution_count": 47,
     "metadata": {},
     "output_type": "execute_result"
    }
   ],
   "source": [
    "student.keys()"
   ]
  },
  {
   "cell_type": "code",
   "execution_count": 48,
   "id": "7ab1c4d4",
   "metadata": {},
   "outputs": [
    {
     "data": {
      "text/plain": [
       "dict_keys(['name', 'subjects', 'topics', 'age', 'is_adult', 'surname'])"
      ]
     },
     "execution_count": 48,
     "metadata": {},
     "output_type": "execute_result"
    }
   ],
   "source": [
    "lofi.keys()"
   ]
  },
  {
   "cell_type": "code",
   "execution_count": 59,
   "id": "ae60d978",
   "metadata": {},
   "outputs": [
    {
     "name": "stdout",
     "output_type": "stream",
     "text": [
      "dict_keys(['name', 'subjects'])\n"
     ]
    }
   ],
   "source": [
    "student={\n",
    "    \"name\": \"Varnit\",\n",
    "    \"subjects\":{\n",
    "        \"physics\": 98,\n",
    "        \"maths\": 97,\n",
    "        \"chemistry\": 96\n",
    "    }\n",
    "\n",
    "}\n",
    "\n",
    "print(student.keys())"
   ]
  },
  {
   "cell_type": "code",
   "execution_count": 61,
   "id": "5db6f1b9",
   "metadata": {},
   "outputs": [
    {
     "name": "stdout",
     "output_type": "stream",
     "text": [
      "2\n"
     ]
    }
   ],
   "source": [
    "print(len(student))"
   ]
  },
  {
   "cell_type": "code",
   "execution_count": 53,
   "id": "c7f7edc4",
   "metadata": {},
   "outputs": [
    {
     "name": "stdout",
     "output_type": "stream",
     "text": [
      "2\n"
     ]
    }
   ],
   "source": [
    "print(len(list(student.keys())))"
   ]
  },
  {
   "cell_type": "code",
   "execution_count": 54,
   "id": "33886489",
   "metadata": {},
   "outputs": [
    {
     "data": {
      "text/plain": [
       "dict_values(['Varnit', {'physics': 98, 'maths': 97, 'chemistry': 96}])"
      ]
     },
     "execution_count": 54,
     "metadata": {},
     "output_type": "execute_result"
    }
   ],
   "source": [
    "student.values()"
   ]
  },
  {
   "cell_type": "code",
   "execution_count": 55,
   "id": "91456451",
   "metadata": {},
   "outputs": [
    {
     "data": {
      "text/plain": [
       "['Varnit', {'physics': 98, 'maths': 97, 'chemistry': 96}]"
      ]
     },
     "execution_count": 55,
     "metadata": {},
     "output_type": "execute_result"
    }
   ],
   "source": [
    "list(student.values())"
   ]
  },
  {
   "cell_type": "code",
   "execution_count": 64,
   "id": "5a524bdc",
   "metadata": {},
   "outputs": [],
   "source": [
    "students={\n",
    "    \"name\": \"Varnit\",\n",
    "    \"subjects\":{\n",
    "        \"physics\": 98,\n",
    "        \"maths\": 97,\n",
    "        \"chemistry\": 96\n",
    "    }\n",
    "\n",
    "}\n",
    "\n"
   ]
  },
  {
   "cell_type": "code",
   "execution_count": 65,
   "id": "4e079eb4",
   "metadata": {},
   "outputs": [
    {
     "data": {
      "text/plain": [
       "dict_items([('name', 'Varnit'), ('subjects', {'physics': 98, 'maths': 97, 'chemistry': 96})])"
      ]
     },
     "execution_count": 65,
     "metadata": {},
     "output_type": "execute_result"
    }
   ],
   "source": [
    "students.items()"
   ]
  },
  {
   "cell_type": "code",
   "execution_count": 60,
   "id": "77f058c2",
   "metadata": {},
   "outputs": [
    {
     "data": {
      "text/plain": [
       "dict_items([('name', 'Varnit'), ('subjects', {'physics': 98, 'maths': 97, 'chemistry': 96})])"
      ]
     },
     "execution_count": 60,
     "metadata": {},
     "output_type": "execute_result"
    }
   ],
   "source": [
    "#.items returns list of tuples containing key value pairs\n",
    "student.items()\n"
   ]
  },
  {
   "cell_type": "markdown",
   "id": "c6634443",
   "metadata": {},
   "source": [
    "# SETS in Python"
   ]
  },
  {
   "cell_type": "markdown",
   "id": "a8629a6b",
   "metadata": {},
   "source": [
    "```\n",
    "sets in python are unordered collections of unique elements.\n",
    "Sets are mutable, but do not support indexing or slicing operations.\n",
    "Sets can be created using the set() function or by enclosing comma-separated values within curly braces {}. \n",
    "Sets also have methods like add(), remove(), and discard() to modify their contents.\n",
    "Sets are commonly used for tasks such as removing duplicates from a list or performing mathematical set operations.\n",
    "```"
   ]
  },
  {
   "cell_type": "code",
   "execution_count": null,
   "id": "8380ba76",
   "metadata": {},
   "outputs": [],
   "source": []
  },
  {
   "cell_type": "markdown",
   "id": "fad553ab",
   "metadata": {},
   "source": []
  },
  {
   "cell_type": "markdown",
   "id": "f05dea5d",
   "metadata": {},
   "source": []
  }
 ],
 "metadata": {
  "kernelspec": {
   "display_name": "base",
   "language": "python",
   "name": "python3"
  },
  "language_info": {
   "codemirror_mode": {
    "name": "ipython",
    "version": 3
   },
   "file_extension": ".py",
   "mimetype": "text/x-python",
   "name": "python",
   "nbconvert_exporter": "python",
   "pygments_lexer": "ipython3",
   "version": "3.13.5"
  }
 },
 "nbformat": 4,
 "nbformat_minor": 5
}
