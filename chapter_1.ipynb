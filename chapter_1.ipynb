{
 "cells": [
  {
   "cell_type": "markdown",
   "id": "5d10eb02",
   "metadata": {},
   "source": [
    "# PYTHON "
   ]
  },
  {
   "cell_type": "markdown",
   "id": "b6a8a2fb",
   "metadata": {},
   "source": [
    "# CHAPTER 1"
   ]
  },
  {
   "cell_type": "code",
   "execution_count": 2,
   "id": "7588d2ff",
   "metadata": {},
   "outputs": [
    {
     "name": "stdout",
     "output_type": "stream",
     "text": [
      "Varnit\n",
      "Hello World\n"
     ]
    }
   ],
   "source": [
    "print(\"Varnit\")\n",
    "print(\"Hello World\")"
   ]
  },
  {
   "cell_type": "code",
   "execution_count": 3,
   "id": "0d965c3b",
   "metadata": {},
   "outputs": [
    {
     "name": "stdout",
     "output_type": "stream",
     "text": [
      "Varnit is my name.\n",
      "My age is 24\n"
     ]
    }
   ],
   "source": [
    "print(\"Varnit is my name.\")\n",
    "print(\"My age is 24\")"
   ]
  },
  {
   "cell_type": "code",
   "execution_count": 4,
   "id": "99b25292",
   "metadata": {},
   "outputs": [
    {
     "name": "stdout",
     "output_type": "stream",
     "text": [
      "Varnit is my name. My age is 24\n"
     ]
    }
   ],
   "source": [
    "print(\"Varnit is my name.\",\"My age is 24\")\n"
   ]
  },
  {
   "cell_type": "code",
   "execution_count": 5,
   "id": "8b92fccc",
   "metadata": {},
   "outputs": [
    {
     "name": "stdout",
     "output_type": "stream",
     "text": [
      "23\n"
     ]
    }
   ],
   "source": [
    "print(23)"
   ]
  },
  {
   "cell_type": "code",
   "execution_count": 6,
   "id": "1a72deaf",
   "metadata": {},
   "outputs": [
    {
     "name": "stdout",
     "output_type": "stream",
     "text": [
      "32\n",
      "25\n"
     ]
    }
   ],
   "source": [
    "print(32)\n",
    "print(25)"
   ]
  },
  {
   "cell_type": "code",
   "execution_count": 7,
   "id": "542024fa",
   "metadata": {},
   "outputs": [
    {
     "name": "stdout",
     "output_type": "stream",
     "text": [
      "112\n"
     ]
    }
   ],
   "source": [
    "print(45+67)"
   ]
  },
  {
   "cell_type": "markdown",
   "id": "eb338338",
   "metadata": {},
   "source": [
    "## Variable\n",
    "A variable is a name given to a memory location where we store data temporarily in a program to store data.\n",
    "variable name must be unique within the scope of function or block.\n",
    "\n",
    " name = \"Varnit\" \n",
    "\n",
    " age = 24 \n",
    " \n",
    " price = 19.95"
   ]
  },
  {
   "cell_type": "code",
   "execution_count": 8,
   "id": "7c4149cf",
   "metadata": {},
   "outputs": [],
   "source": [
    "name = \"Varnit\" #string variable\n",
    "age = 24 #integer variable\n",
    "price = 19.95 #float variable"
   ]
  },
  {
   "cell_type": "code",
   "execution_count": 10,
   "id": "a9640c85",
   "metadata": {},
   "outputs": [
    {
     "name": "stdout",
     "output_type": "stream",
     "text": [
      "Varnit\n",
      "24\n",
      "19.95\n"
     ]
    }
   ],
   "source": [
    "print(name)\n",
    "print(age)\n",
    "print(price)    "
   ]
  },
  {
   "cell_type": "code",
   "execution_count": 11,
   "id": "4f2c9cbe",
   "metadata": {},
   "outputs": [
    {
     "name": "stdout",
     "output_type": "stream",
     "text": [
      "my name is Varnit\n",
      "my age is 24\n"
     ]
    }
   ],
   "source": [
    "print(\"my name is\",name,)\n",
    "print(\"my age is\",age)"
   ]
  },
  {
   "cell_type": "code",
   "execution_count": 12,
   "id": "fe7def2c",
   "metadata": {},
   "outputs": [],
   "source": [
    "preferred_age = age "
   ]
  },
  {
   "cell_type": "code",
   "execution_count": 13,
   "id": "183023e9",
   "metadata": {},
   "outputs": [
    {
     "name": "stdout",
     "output_type": "stream",
     "text": [
      "My age is  24\n"
     ]
    }
   ],
   "source": [
    "print(\"My age is \",preferred_age)"
   ]
  },
  {
   "cell_type": "code",
   "execution_count": 14,
   "id": "788fc03e",
   "metadata": {},
   "outputs": [
    {
     "name": "stdout",
     "output_type": "stream",
     "text": [
      "<class 'str'>\n",
      "<class 'int'>\n",
      "<class 'float'>\n"
     ]
    }
   ],
   "source": [
    "print(type(name))\n",
    "print(type(age))\n",
    "print(type(price))"
   ]
  },
  {
   "cell_type": "markdown",
   "id": "90b1f0f5",
   "metadata": {},
   "source": [
    "## STRING Data Type"
   ]
  },
  {
   "cell_type": "code",
   "execution_count": 15,
   "id": "96fa6394",
   "metadata": {},
   "outputs": [],
   "source": [
    "name1 = 'vk'\n",
    "name2 = \"vk\"\n",
    "name3 = '''vk'''"
   ]
  },
  {
   "cell_type": "code",
   "execution_count": 16,
   "id": "b464835c",
   "metadata": {},
   "outputs": [
    {
     "name": "stdout",
     "output_type": "stream",
     "text": [
      "vk\n",
      "vk\n",
      "vk\n"
     ]
    }
   ],
   "source": [
    "print(name1)\n",
    "print(name2)\n",
    "print(name3)"
   ]
  },
  {
   "cell_type": "markdown",
   "id": "35f3c1f5",
   "metadata": {},
   "source": [
    "### BOOLEAN Data Type\n",
    "### NONE Data Type"
   ]
  },
  {
   "cell_type": "code",
   "execution_count": 17,
   "id": "14032a7c",
   "metadata": {},
   "outputs": [],
   "source": [
    "age = 24\n",
    "old = False\n",
    "a = None"
   ]
  },
  {
   "cell_type": "code",
   "execution_count": 18,
   "id": "e7a122af",
   "metadata": {},
   "outputs": [
    {
     "name": "stdout",
     "output_type": "stream",
     "text": [
      "<class 'int'>\n",
      "<class 'bool'>\n",
      "<class 'NoneType'>\n"
     ]
    }
   ],
   "source": [
    "print(type(age))\n",
    "print(type(old))\n",
    "print(type(a))"
   ]
  },
  {
   "cell_type": "markdown",
   "id": "4b8f711a",
   "metadata": {},
   "source": [
    "## KEYWORDS\n",
    "Keywords ar ereserved words in python and these cannot be used as identifiers.\n",
    "They are used to define the syntax of the language.\n",
    "for example: if, else, elif, while, def etc."
   ]
  },
  {
   "cell_type": "markdown",
   "id": "675cb671",
   "metadata": {},
   "source": [
    "print sum"
   ]
  },
  {
   "cell_type": "code",
   "execution_count": 20,
   "id": "f9e0dcb1",
   "metadata": {},
   "outputs": [
    {
     "name": "stdout",
     "output_type": "stream",
     "text": [
      "7\n"
     ]
    }
   ],
   "source": [
    "a=2\n",
    "b=5\n",
    "sum=a+b\n",
    "print(sum)"
   ]
  },
  {
   "cell_type": "markdown",
   "id": "098a77c7",
   "metadata": {},
   "source": [
    "## COMMENTS in python "
   ]
  },
  {
   "cell_type": "markdown",
   "id": "72eb9062",
   "metadata": {},
   "source": [
    "- #single line comment\n",
    "\n",
    "- \"\"\" \n",
    "multiline comment\n",
    "\"\"\""
   ]
  },
  {
   "cell_type": "code",
   "execution_count": 21,
   "id": "3941a751",
   "metadata": {},
   "outputs": [
    {
     "name": "stdout",
     "output_type": "stream",
     "text": [
      "Hello World\n"
     ]
    }
   ],
   "source": [
    "print(\"Hello World\")\n",
    "#print(\"Hello World\")"
   ]
  },
  {
   "cell_type": "code",
   "execution_count": 24,
   "id": "ac05dea2",
   "metadata": {},
   "outputs": [
    {
     "name": "stdout",
     "output_type": "stream",
     "text": [
      "Hello World\n"
     ]
    },
    {
     "data": {
      "text/plain": [
       "'\\nThis is a multiline comment\\nand this is the second line of the comment\\n'"
      ]
     },
     "execution_count": 24,
     "metadata": {},
     "output_type": "execute_result"
    }
   ],
   "source": [
    "print(\"Hello World\")\n",
    "\"\"\"\n",
    "This is a multiline comment\n",
    "and this is the second line of the comment\n",
    "\"\"\""
   ]
  },
  {
   "cell_type": "code",
   "execution_count": null,
   "id": "85eae98f",
   "metadata": {},
   "outputs": [],
   "source": [
    "print(\"Hello World\")\n",
    "print(\"Hello World\")\n",
    "# print(\"Hello World\")\n",
    "# print(\"Hello World\")\n",
    "# print(\"Hello World\")\n",
    "# print(\"Hello World\")"
   ]
  },
  {
   "cell_type": "markdown",
   "id": "05bc59cf",
   "metadata": {},
   "source": [
    "## OPERATORS IN PYTHON\n",
    "An operator is a symbols that performs operations on variables and values.\n",
    "In the example below, we use the + operator to add together two values:\n",
    "Example\n",
    "print(10+5)\n",
    "Output: 15\n",
    "\n",
    "Operation between Operands \n"
   ]
  },
  {
   "cell_type": "markdown",
   "id": "c1950256",
   "metadata": {},
   "source": [
    "### Types of Operators in Python\n",
    "- Arithmetic operators(+,-,*,/,//,**,%)\n",
    "- Relational operators|Comparison operators(<,>,<=,>=,==,!=)\n",
    "- Assignment operators(=,+ =,-=,*=,/=%)\n",
    "- Unary operators(-,+)\n",
    "- Logical operators(not,and,or)\n",
    "- Identity operators(is,is not)\n",
    "- Membership operators(in,not in)\n",
    "- Bitwise operators(&,|,^,~,<<,>>)"
   ]
  },
  {
   "cell_type": "markdown",
   "id": "bcddc28f",
   "metadata": {},
   "source": []
  },
  {
   "cell_type": "code",
   "execution_count": 25,
   "id": "3ea2abb8",
   "metadata": {},
   "outputs": [
    {
     "name": "stdout",
     "output_type": "stream",
     "text": [
      "7\n",
      "3\n",
      "10\n",
      "2.5\n",
      "1\n",
      "25\n"
     ]
    }
   ],
   "source": [
    "#arithmetic operators\n",
    "a = 5\n",
    "b = 2\n",
    "print(a+b) #addition\n",
    "print(a-b) #subtraction\n",
    "print(a*b) #multiplication\n",
    "print(a/b) #division\n",
    "print(a%b) #modulus means remainder\n",
    "print(a**b) #exponent"
   ]
  },
  {
   "cell_type": "code",
   "execution_count": 26,
   "id": "37677d0c",
   "metadata": {},
   "outputs": [
    {
     "name": "stdout",
     "output_type": "stream",
     "text": [
      "True\n",
      "False\n",
      "True\n",
      "False\n",
      "False\n",
      "True\n"
     ]
    }
   ],
   "source": [
    "#relational operators\n",
    "print(a>b) #greater than\n",
    "print(a<b) #less than    \n",
    "print(a>=b) #greater than or equal to    \n",
    "print(a<=b) #less than or equal to    \n",
    "print(a==b) #equal to                    \n",
    "print(a!=b) #not equal to\n"
   ]
  },
  {
   "cell_type": "code",
   "execution_count": 28,
   "id": "829c5303",
   "metadata": {},
   "outputs": [
    {
     "name": "stdout",
     "output_type": "stream",
     "text": [
      "5\n",
      "8\n",
      "5\n",
      "15\n",
      "5.0\n",
      "2.0\n",
      "8.0\n"
     ]
    }
   ],
   "source": [
    "#assignment operators\n",
    "x = 5\n",
    "print(x)\n",
    "x += 3 #x = x + 3\n",
    "print(x)\n",
    "x -= 3 #x = x - 3\n",
    "print(x)\n",
    "x *= 3 #x = x * 3\n",
    "print(x)\n",
    "x /= 3 #x = x / 3\n",
    "print(x)\n",
    "x %= 3 #x = x % 3\n",
    "print(x)\n",
    "x **= 3 #x = x ** 3\n",
    "print(x)"
   ]
  },
  {
   "cell_type": "code",
   "execution_count": 29,
   "id": "151acebe",
   "metadata": {},
   "outputs": [
    {
     "name": "stdout",
     "output_type": "stream",
     "text": [
      "False\n",
      "True\n",
      "False\n"
     ]
    }
   ],
   "source": [
    "#logical operators\n",
    "a = True\n",
    "b = False\n",
    "print(a and b) #and operator\n",
    "print(a or b) #or operator\n",
    "print(not a) #not operator"
   ]
  },
  {
   "cell_type": "code",
   "execution_count": 30,
   "id": "39330fdc",
   "metadata": {},
   "outputs": [
    {
     "name": "stdout",
     "output_type": "stream",
     "text": [
      "True\n",
      "False\n"
     ]
    }
   ],
   "source": [
    "print(not False)\n",
    "print(not True)"
   ]
  },
  {
   "cell_type": "markdown",
   "id": "ed5fde2e",
   "metadata": {},
   "source": [
    "## Type Conversion\n",
    "Defination of type conversion is to convert one data type into another.\n",
    "For example: int() , float(), str(), bool()"
   ]
  },
  {
   "cell_type": "markdown",
   "id": "76fb8717",
   "metadata": {},
   "source": [
    "## TYPER CONVERSION vs TYPE CASTING\n",
    "type conver can be done automatically by python but type casting is not possible automatically.as interpreter automatically convert the data types of variables.\n",
    "#example:\n",
    "a=10\n",
    "print(type(a))\n",
    "b=str(20)\n",
    "print(b,type(b))\n",
    "\n"
   ]
  },
  {
   "cell_type": "code",
   "execution_count": null,
   "id": "0f3ee3a0",
   "metadata": {},
   "outputs": [
    {
     "name": "stdout",
     "output_type": "stream",
     "text": [
      "5.5\n"
     ]
    }
   ],
   "source": [
    "#type conversion\n",
    "a = 2\n",
    "b = 3.5\n",
    "sum = a + b # here a is int and b is float so python automatically convert int to float\n",
    "print(sum)"
   ]
  },
  {
   "cell_type": "code",
   "execution_count": 32,
   "id": "0ef90cdd",
   "metadata": {},
   "outputs": [
    {
     "ename": "TypeError",
     "evalue": "can only concatenate str (not \"float\") to str",
     "output_type": "error",
     "traceback": [
      "\u001b[1;31m---------------------------------------------------------------------------\u001b[0m",
      "\u001b[1;31mTypeError\u001b[0m                                 Traceback (most recent call last)",
      "Cell \u001b[1;32mIn[32], line 4\u001b[0m\n\u001b[0;32m      2\u001b[0m a \u001b[38;5;241m=\u001b[39m \u001b[38;5;124m\"\u001b[39m\u001b[38;5;124m2\u001b[39m\u001b[38;5;124m\"\u001b[39m\n\u001b[0;32m      3\u001b[0m b \u001b[38;5;241m=\u001b[39m \u001b[38;5;241m3.5\u001b[39m\n\u001b[1;32m----> 4\u001b[0m \u001b[38;5;28msum\u001b[39m \u001b[38;5;241m=\u001b[39m \u001b[43ma\u001b[49m\u001b[43m \u001b[49m\u001b[38;5;241;43m+\u001b[39;49m\u001b[43m \u001b[49m\u001b[43mb\u001b[49m \n\u001b[0;32m      5\u001b[0m \u001b[38;5;28mprint\u001b[39m(\u001b[38;5;28msum\u001b[39m)\n",
      "\u001b[1;31mTypeError\u001b[0m: can only concatenate str (not \"float\") to str"
     ]
    }
   ],
   "source": [
    "#type conversion\n",
    "a = \"2\"\n",
    "b = 3.5\n",
    "sum = a + b \n",
    "print(sum)"
   ]
  },
  {
   "cell_type": "markdown",
   "id": "7ea90b9d",
   "metadata": {},
   "source": [
    "## TYPE CASTING\n",
    "print(int(1.2))\n",
    "print(float(\"3\"))\n",
    "print(str(True))"
   ]
  },
  {
   "cell_type": "code",
   "execution_count": 35,
   "id": "42b9bdfa",
   "metadata": {},
   "outputs": [
    {
     "name": "stdout",
     "output_type": "stream",
     "text": [
      "5.5\n",
      "<class 'type'>\n"
     ]
    }
   ],
   "source": [
    "#type casting\n",
    "a = float(\"2\")\n",
    "b = 3.5\n",
    "sum = a + b\n",
    "print(sum)\n",
    "print(type)"
   ]
  },
  {
   "cell_type": "markdown",
   "id": "23d2a93a",
   "metadata": {},
   "source": [
    "## INPUT in PYTHON\n",
    "\n",
    "The `input()` statement is used to take input from the user.\n",
    "\n",
    "**Syntax:**\n",
    "```\n",
    "variable_name = input(\"prompt\")\n",
    "```\n",
    "\n",
    "**Example:**\n",
    "```python\n",
    "a = int(input(\"Enter a number\"))\n",
    "print(a)\n",
    "```\n",
    "\n",
    "**Output:**\n",
    "```\n",
    "Enter a number 5\n",
    "5\n",
    "```"
   ]
  },
  {
   "cell_type": "code",
   "execution_count": 36,
   "id": "b4e22e19",
   "metadata": {},
   "outputs": [
    {
     "data": {
      "text/plain": [
       "'varnit'"
      ]
     },
     "execution_count": 36,
     "metadata": {},
     "output_type": "execute_result"
    }
   ],
   "source": [
    "input(\"Enter your name: \")"
   ]
  },
  {
   "cell_type": "code",
   "execution_count": 37,
   "id": "0cc4be27",
   "metadata": {},
   "outputs": [
    {
     "name": "stdout",
     "output_type": "stream",
     "text": [
      "Hello VK\n"
     ]
    }
   ],
   "source": [
    "name = input(\"Enter your name: \")\n",
    "print(\"Hello\",name)"
   ]
  },
  {
   "cell_type": "code",
   "execution_count": 39,
   "id": "ceacf383",
   "metadata": {},
   "outputs": [
    {
     "name": "stdout",
     "output_type": "stream",
     "text": [
      "welcome Varnit\n",
      "your age is 24\n",
      "your marks is 98.43\n"
     ]
    }
   ],
   "source": [
    "name = input(\"Enter your name: \")\n",
    "age = int(input(\"Enter your age: \"))\n",
    "marks = float(input(\"Enter your marks: \"))\n",
    "\n",
    "print(\"welcome\",name)\n",
    "print(\"your age is\",age)\n",
    "print(\"your marks is\",marks)"
   ]
  },
  {
   "cell_type": "markdown",
   "id": "b31f64dc",
   "metadata": {},
   "source": [
    "## LETS PRACTICE PYTHON\n",
    "Q1. Write a program to input 2 numbers & print their sum."
   ]
  },
  {
   "cell_type": "code",
   "execution_count": 42,
   "id": "b3b6d05d",
   "metadata": {},
   "outputs": [
    {
     "name": "stdout",
     "output_type": "stream",
     "text": [
      "the sum is : 11\n"
     ]
    }
   ],
   "source": [
    "a = int(input (\"enter number 1:\"))\n",
    "b = int(input(\"enter number 2:\"))\n",
    "sum = a + b\n",
    "\n",
    "print (\"the sum is :\",sum)"
   ]
  },
  {
   "cell_type": "markdown",
   "id": "c2ad4758",
   "metadata": {},
   "source": [
    "Q2. WAP to input side of a square & pritn its area."
   ]
  },
  {
   "cell_type": "code",
   "execution_count": 43,
   "id": "35ed116d",
   "metadata": {},
   "outputs": [
    {
     "name": "stdout",
     "output_type": "stream",
     "text": [
      "The area of the square is: 25\n"
     ]
    }
   ],
   "source": [
    "a = int(input(\"Enter side of the square:\"))\n",
    "\n",
    "area = a * a\n",
    "print(\"The area of the square is:\",area)"
   ]
  },
  {
   "cell_type": "code",
   "execution_count": null,
   "id": "606c034a",
   "metadata": {},
   "outputs": [
    {
     "name": "stdout",
     "output_type": "stream",
     "text": [
      "The area of the square is: 25\n"
     ]
    }
   ],
   "source": [
    "a = float(input(\"Enter side of the square:\"))\n",
    "\n",
    "area = a ** 2\n",
    "print(\"The area of the square is:\",area)"
   ]
  },
  {
   "cell_type": "markdown",
   "id": "538033ff",
   "metadata": {},
   "source": [
    "Q3. WAp to input 2 floating point numbers & pritn their average."
   ]
  },
  {
   "cell_type": "code",
   "execution_count": 45,
   "id": "39615204",
   "metadata": {},
   "outputs": [
    {
     "name": "stdout",
     "output_type": "stream",
     "text": [
      "The average of two number is: 83.5\n"
     ]
    }
   ],
   "source": [
    "a = float(input(\"enter num 1:\"))\n",
    "b = float(input(\"enter num 2:\"))\n",
    "\n",
    "avg = (a+b)/2\n",
    "print(\"The average of two number is:\",avg)"
   ]
  },
  {
   "cell_type": "markdown",
   "id": "9dc950a3",
   "metadata": {},
   "source": [
    "Q4. WAP to input 2 int number , a and b\n",
    "* print True if a is greater than b else False"
   ]
  },
  {
   "cell_type": "code",
   "execution_count": null,
   "id": "45feb1d6",
   "metadata": {},
   "outputs": [
    {
     "name": "stdout",
     "output_type": "stream",
     "text": [
      "False\n",
      "True\n"
     ]
    }
   ],
   "source": [
    "a = int(input(\"enter num 1:\"))\n",
    "b = int(input(\"enter num2:\"))\n",
    "print(a>=b)\n",
    "print(not(a>b))"
   ]
  },
  {
   "cell_type": "markdown",
   "id": "490e9ee2",
   "metadata": {},
   "source": [
    "# CHAPTER 1 FINISHED "
   ]
  },
  {
   "cell_type": "code",
   "execution_count": null,
   "id": "3cc66386",
   "metadata": {},
   "outputs": [],
   "source": []
  }
 ],
 "metadata": {
  "kernelspec": {
   "display_name": "base",
   "language": "python",
   "name": "python3"
  },
  "language_info": {
   "codemirror_mode": {
    "name": "ipython",
    "version": 3
   },
   "file_extension": ".py",
   "mimetype": "text/x-python",
   "name": "python",
   "nbconvert_exporter": "python",
   "pygments_lexer": "ipython3",
   "version": "3.13.5"
  }
 },
 "nbformat": 4,
 "nbformat_minor": 5
}
