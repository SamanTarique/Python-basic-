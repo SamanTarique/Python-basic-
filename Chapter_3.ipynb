{
 "cells": [
  {
   "cell_type": "markdown",
   "id": "500603fa",
   "metadata": {},
   "source": [
    "# LISTS & TUPLES"
   ]
  },
  {
   "cell_type": "markdown",
   "id": "5949446a",
   "metadata": {},
   "source": [
    "- LISTS IN PYTHON\n",
    "* A built-in dta atype that stores set of values\n",
    "* List is a collection which is ordered and changeable. Allows duplicate members.\n",
    "* Lists are created using square brackets\n",
    "* It can store elements of different types (int,float,string)\n",
    "* We can access the list items by referring to its index number inside square brackets"
   ]
  },
  {
   "cell_type": "markdown",
   "id": "89388027",
   "metadata": {},
   "source": [
    "```marks =[87, 83, 90, 33, 79]        #marks[0],marks[1]....\n",
    "students = [\"Varnit\", 25, \"Delhi\"]  #students[0], students[1]...\n",
    "student[0]=\"Arjun\"\n",
    "len(student)```\n"
   ]
  },
  {
   "cell_type": "code",
   "execution_count": null,
   "id": "62539b36",
   "metadata": {},
   "outputs": [],
   "source": [
    "marks1=94.4\n",
    "marks2=80.3\n",
    "marks3=98.6\n",
    "marks4=78.9\n",
    "marks5=88.5"
   ]
  },
  {
   "cell_type": "code",
   "execution_count": 2,
   "id": "2871ed99",
   "metadata": {},
   "outputs": [
    {
     "name": "stdout",
     "output_type": "stream",
     "text": [
      "[94.4, 80.3, 98.6, 78.9, 88.5]\n",
      "<class 'list'>\n"
     ]
    }
   ],
   "source": [
    "marks = [94.4, 80.3, 98.6, 78.9, 88.5]\n",
    "print(marks)\n",
    "print(type(marks))"
   ]
  },
  {
   "cell_type": "code",
   "execution_count": 3,
   "id": "be9e96c7",
   "metadata": {},
   "outputs": [
    {
     "name": "stdout",
     "output_type": "stream",
     "text": [
      "94.4\n",
      "80.3\n"
     ]
    }
   ],
   "source": [
    "print(marks[0])\n",
    "print(marks[1])"
   ]
  },
  {
   "cell_type": "code",
   "execution_count": 4,
   "id": "9e47de8b",
   "metadata": {},
   "outputs": [
    {
     "name": "stdout",
     "output_type": "stream",
     "text": [
      "5\n"
     ]
    }
   ],
   "source": [
    "print(len(marks))"
   ]
  },
  {
   "cell_type": "markdown",
   "id": "eed4f798",
   "metadata": {},
   "source": [
    "* list are mutable"
   ]
  },
  {
   "cell_type": "code",
   "execution_count": 5,
   "id": "b940d19a",
   "metadata": {},
   "outputs": [
    {
     "name": "stdout",
     "output_type": "stream",
     "text": [
      "['Varnit', 97.5, 25, 'Delhi', True]\n",
      "<class 'list'>\n"
     ]
    }
   ],
   "source": [
    "students = [\"Varnit\",97.5 , 25, \"Delhi\", True]\n",
    "print(students)\n",
    "print(type(students))"
   ]
  },
  {
   "cell_type": "code",
   "execution_count": 6,
   "id": "00b2c861",
   "metadata": {},
   "outputs": [
    {
     "name": "stdout",
     "output_type": "stream",
     "text": [
      "Varnit\n"
     ]
    }
   ],
   "source": [
    "print(students[0])"
   ]
  },
  {
   "cell_type": "code",
   "execution_count": 7,
   "id": "15276309",
   "metadata": {},
   "outputs": [],
   "source": [
    "students[0] = \"Rohan\""
   ]
  },
  {
   "cell_type": "code",
   "execution_count": 9,
   "id": "7a01e184",
   "metadata": {},
   "outputs": [
    {
     "name": "stdout",
     "output_type": "stream",
     "text": [
      "['Rohan', 97.5, 25, 'Delhi', True]\n"
     ]
    }
   ],
   "source": [
    "print(students)"
   ]
  },
  {
   "cell_type": "code",
   "execution_count": 10,
   "id": "e70ec7a0",
   "metadata": {},
   "outputs": [
    {
     "ename": "IndexError",
     "evalue": "list index out of range",
     "output_type": "error",
     "traceback": [
      "\u001b[1;31m---------------------------------------------------------------------------\u001b[0m",
      "\u001b[1;31mIndexError\u001b[0m                                Traceback (most recent call last)",
      "Cell \u001b[1;32mIn[10], line 2\u001b[0m\n\u001b[0;32m      1\u001b[0m students \u001b[38;5;241m=\u001b[39m [\u001b[38;5;124m\"\u001b[39m\u001b[38;5;124mVarnit\u001b[39m\u001b[38;5;124m\"\u001b[39m,\u001b[38;5;241m97.5\u001b[39m , \u001b[38;5;241m25\u001b[39m, \u001b[38;5;124m\"\u001b[39m\u001b[38;5;124mDelhi\u001b[39m\u001b[38;5;124m\"\u001b[39m, \u001b[38;5;28;01mTrue\u001b[39;00m]\n\u001b[1;32m----> 2\u001b[0m \u001b[38;5;28mprint\u001b[39m(\u001b[43mstudents\u001b[49m\u001b[43m[\u001b[49m\u001b[38;5;241;43m5\u001b[39;49m\u001b[43m]\u001b[49m)\n",
      "\u001b[1;31mIndexError\u001b[0m: list index out of range"
     ]
    }
   ],
   "source": [
    "students = [\"Varnit\",97.5 , 25, \"Delhi\", True]\n",
    "print(students[5])"
   ]
  },
  {
   "cell_type": "markdown",
   "id": "c900390e",
   "metadata": {},
   "source": [
    "* LIST SLICING \n",
    "\n",
    "similar to string slicing"
   ]
  },
  {
   "cell_type": "code",
   "execution_count": 11,
   "id": "abae6203",
   "metadata": {},
   "outputs": [
    {
     "name": "stdout",
     "output_type": "stream",
     "text": [
      "[74, 65, 7, 88, 92]\n",
      "10\n"
     ]
    }
   ],
   "source": [
    "marks = [74,65,7,88,92,45,63,89,91,87]\n",
    "print(marks[0:5])\n",
    "\n",
    "print(len(marks))"
   ]
  },
  {
   "cell_type": "code",
   "execution_count": 12,
   "id": "5910d4a7",
   "metadata": {},
   "outputs": [
    {
     "name": "stdout",
     "output_type": "stream",
     "text": [
      "[7, 88, 92, 45, 63, 89]\n",
      "[74, 65, 7, 88, 92, 45, 63, 89]\n",
      "[7, 88, 92, 45, 63, 89, 91, 87]\n"
     ]
    }
   ],
   "source": [
    "print(marks[2:8])\n",
    "print(marks[:8])\n",
    "print(marks[2:])\n"
   ]
  },
  {
   "cell_type": "code",
   "execution_count": 13,
   "id": "75f2177a",
   "metadata": {},
   "outputs": [
    {
     "name": "stdout",
     "output_type": "stream",
     "text": [
      "[]\n",
      "[45, 63, 89, 91]\n"
     ]
    }
   ],
   "source": [
    "print(marks[-1:-5])\n",
    "print(marks[-5:-1])"
   ]
  },
  {
   "cell_type": "markdown",
   "id": "29574449",
   "metadata": {},
   "source": [
    "LIST METHODS\n",
    "\n",
    "1. append() - Adds an element at the end of the list\n",
    "2. clear() - Removes all the elements from the list\n",
    "3. copy() - Returns a copy of the list\n",
    "4. count() - Returns the number of elements with the specified value\n",
    "5. extend() - Add the elements of a list (or any iterable), to the end of the current list\n",
    "6. index() - Returns the index of the first element with the specified value\n",
    "7. insert() - Adds an element at the specified position\n",
    "8. pop() - Removes the element at the specified position\n",
    "9. remove() - Removes the item with the specified value\n",
    "10. reverse() - Reverses the order of the list\n",
    "11. sort() - Sorts the list"
   ]
  },
  {
   "cell_type": "markdown",
   "id": "75b9db9c",
   "metadata": {},
   "source": [
    "mutating the list"
   ]
  },
  {
   "cell_type": "code",
   "execution_count": 14,
   "id": "4addbfd0",
   "metadata": {},
   "outputs": [
    {
     "name": "stdout",
     "output_type": "stream",
     "text": [
      "[2, 1, 3, 4]\n"
     ]
    }
   ],
   "source": [
    "list = [2,1,3]\n",
    "list.append(4)\n",
    "print(list)"
   ]
  },
  {
   "cell_type": "code",
   "execution_count": 15,
   "id": "3da71217",
   "metadata": {},
   "outputs": [
    {
     "name": "stdout",
     "output_type": "stream",
     "text": [
      "[1, 2, 3, 4]\n"
     ]
    }
   ],
   "source": [
    "list.sort()\n",
    "print(list)"
   ]
  },
  {
   "cell_type": "code",
   "execution_count": 16,
   "id": "54247bc6",
   "metadata": {},
   "outputs": [
    {
     "name": "stdout",
     "output_type": "stream",
     "text": [
      "[4, 3, 2, 1]\n"
     ]
    }
   ],
   "source": [
    "list.sort(reverse=True)\n",
    "print(list)"
   ]
  },
  {
   "cell_type": "code",
   "execution_count": 17,
   "id": "7f8f8b10",
   "metadata": {},
   "outputs": [
    {
     "name": "stdout",
     "output_type": "stream",
     "text": [
      "None\n",
      "None\n",
      "[1, 2, 3, 4, 5, 6, 10, 12]\n"
     ]
    }
   ],
   "source": [
    "list = [5,3,6,2,10,1,4]\n",
    "print(list.sort())\n",
    "print(list.append(12))\n",
    "print(list)"
   ]
  },
  {
   "cell_type": "code",
   "execution_count": 19,
   "id": "7a32541a",
   "metadata": {},
   "outputs": [
    {
     "name": "stdout",
     "output_type": "stream",
     "text": [
      "[4, 1, 10, 2, 6, 3, 5]\n"
     ]
    }
   ],
   "source": [
    "list = [5,3,6,2,10,1,4]\n",
    "list.reverse()\n",
    "print(list)"
   ]
  },
  {
   "cell_type": "code",
   "execution_count": 21,
   "id": "a9d56aaa",
   "metadata": {},
   "outputs": [
    {
     "name": "stdout",
     "output_type": "stream",
     "text": [
      "['apple', 'banana', 'cherry', 'kiwi', 'mango']\n",
      "['mango', 'kiwi', 'cherry', 'banana', 'apple']\n"
     ]
    }
   ],
   "source": [
    "list = [\"banana\",\"apple\",\"cherry\",\"kiwi\",\"mango\"]\n",
    "list.sort()\n",
    "print(list)\n",
    "list.sort(reverse=True)\n",
    "print(list)"
   ]
  },
  {
   "cell_type": "code",
   "execution_count": 22,
   "id": "de413df4",
   "metadata": {},
   "outputs": [
    {
     "name": "stdout",
     "output_type": "stream",
     "text": [
      "['mango', 'orange', 'kiwi', 'cherry', 'banana', 'apple']\n"
     ]
    }
   ],
   "source": [
    "list.insert(1,\"orange\")\n",
    "print(list)"
   ]
  },
  {
   "cell_type": "code",
   "execution_count": 23,
   "id": "3b7e49c0",
   "metadata": {},
   "outputs": [],
   "source": [
    "list.insert(5,\"watermelon\")"
   ]
  },
  {
   "cell_type": "code",
   "execution_count": 24,
   "id": "d5b76430",
   "metadata": {},
   "outputs": [
    {
     "name": "stdout",
     "output_type": "stream",
     "text": [
      "['mango', 'orange', 'kiwi', 'cherry', 'banana', 'watermelon', 'apple']\n"
     ]
    }
   ],
   "source": [
    "print(list)"
   ]
  },
  {
   "cell_type": "code",
   "execution_count": 28,
   "id": "6dbea115",
   "metadata": {},
   "outputs": [
    {
     "name": "stdout",
     "output_type": "stream",
     "text": [
      "[3, 4, 6, 8, 9, 1, 3, 4, 5, 6, 7]\n",
      "[3, 4, 6, 8, 9, 3, 4, 5, 6, 7]\n"
     ]
    }
   ],
   "source": [
    "list=[3,4,6,1,8,9,1,3,4,5,6,7]\n",
    "list.remove(1)\n",
    "print(list)\n",
    "list.pop(5)\n",
    "print(list)"
   ]
  },
  {
   "cell_type": "markdown",
   "id": "d55519db",
   "metadata": {},
   "source": [
    "# TUPLES in python\n",
    "\n",
    "- A built in data type that is immutable (cannot be changed) and ordered.\n",
    "- Tuples are used to store multiple items in a single variable.\n",
    "- Tuple items are ordered, unchangeable, and allow duplicate values.\n"
   ]
  },
  {
   "cell_type": "markdown",
   "id": "81b0d8c0",
   "metadata": {},
   "source": [
    "tup = (45,67,87,23,64)\n",
    "\n",
    "tup[0]=43  # not allowed in python\n",
    "\n",
    "``` \n",
    "tup1=()\n",
    "tup2=(1,)\n",
    "tup3=(1,2,3) ```"
   ]
  },
  {
   "cell_type": "code",
   "execution_count": 29,
   "id": "df021258",
   "metadata": {},
   "outputs": [
    {
     "name": "stdout",
     "output_type": "stream",
     "text": [
      "(43, 56, 78, 12, 90)\n",
      "<class 'tuple'>\n"
     ]
    }
   ],
   "source": [
    "tup = (43,56,78,12,90)\n",
    "print(tup)\n",
    "print(type(tup))"
   ]
  },
  {
   "cell_type": "code",
   "execution_count": 32,
   "id": "78ef9805",
   "metadata": {},
   "outputs": [
    {
     "name": "stdout",
     "output_type": "stream",
     "text": [
      "43\n",
      "78\n"
     ]
    }
   ],
   "source": [
    "print(tup[0])\n",
    "print(tup[2])"
   ]
  },
  {
   "cell_type": "code",
   "execution_count": 33,
   "id": "6ad41098",
   "metadata": {},
   "outputs": [
    {
     "ename": "TypeError",
     "evalue": "'tuple' object does not support item assignment",
     "output_type": "error",
     "traceback": [
      "\u001b[1;31m---------------------------------------------------------------------------\u001b[0m",
      "\u001b[1;31mTypeError\u001b[0m                                 Traceback (most recent call last)",
      "Cell \u001b[1;32mIn[33], line 1\u001b[0m\n\u001b[1;32m----> 1\u001b[0m \u001b[43mtup\u001b[49m\u001b[43m[\u001b[49m\u001b[38;5;241;43m0\u001b[39;49m\u001b[43m]\u001b[49m\u001b[38;5;241m=\u001b[39m\u001b[38;5;241m43\u001b[39m  \u001b[38;5;66;03m# not allowed in python\u001b[39;00m\n",
      "\u001b[1;31mTypeError\u001b[0m: 'tuple' object does not support item assignment"
     ]
    }
   ],
   "source": [
    "tup[0]=43  # not allowed in python"
   ]
  },
  {
   "cell_type": "code",
   "execution_count": 37,
   "id": "380519e6",
   "metadata": {},
   "outputs": [
    {
     "name": "stdout",
     "output_type": "stream",
     "text": [
      "()\n",
      "<class 'tuple'>\n"
     ]
    }
   ],
   "source": [
    "tup = ()\n",
    "print(tup)\n",
    "print(type(tup))"
   ]
  },
  {
   "cell_type": "markdown",
   "id": "1ba7e887",
   "metadata": {},
   "source": [
    "for single value tuple we need to add comma after the element"
   ]
  },
  {
   "cell_type": "code",
   "execution_count": 39,
   "id": "c7ba4cb8",
   "metadata": {},
   "outputs": [
    {
     "name": "stdout",
     "output_type": "stream",
     "text": [
      "(1,)\n"
     ]
    }
   ],
   "source": [
    "tup = (1,)\n",
    "print(tup)"
   ]
  },
  {
   "cell_type": "code",
   "execution_count": 40,
   "id": "0db8fead",
   "metadata": {},
   "outputs": [
    {
     "name": "stdout",
     "output_type": "stream",
     "text": [
      "1\n",
      "<class 'int'>\n"
     ]
    }
   ],
   "source": [
    "tup=(1)\n",
    "print(tup)\n",
    "print(type(tup))"
   ]
  },
  {
   "cell_type": "markdown",
   "id": "a546da42",
   "metadata": {},
   "source": [
    "Slicing in tuple"
   ]
  },
  {
   "cell_type": "code",
   "execution_count": 42,
   "id": "fb13a3ab",
   "metadata": {},
   "outputs": [
    {
     "name": "stdout",
     "output_type": "stream",
     "text": [
      "(3, 4, 5)\n",
      "(1, 2, 3, 4, 5)\n",
      "(6, 7, 8, 9, 10)\n",
      "(6, 7, 8, 9, 10)\n",
      "(1, 2, 3, 4, 5)\n",
      "(10, 9, 8, 7, 6, 5, 4, 3, 2, 1)\n"
     ]
    }
   ],
   "source": [
    "tup = (1,2,3,4,5,6,7,8,9,10)\n",
    "print(tup[2:5]) # prints elements from index 2 to 4\n",
    "print(tup[:5]) # prints elements till index 4\n",
    "print(tup[5:]) # prints elements from index 5 to end\n",
    "print(tup[-5:]) # prints last five elements\n",
    "print(tup[:-5]) # prints all but the last five elements\n",
    "print(tup[::-1]) # prints the tuple in reverse order"
   ]
  },
  {
   "cell_type": "markdown",
   "id": "5413d4e3",
   "metadata": {},
   "source": [
    "TUPLE METHODS\n",
    "``` t=(1,2,3)\n",
    "print(t.count(1)) #count the number of times an element is present in tuple\n",
    "print(t.index(2)) #returns index value of first occurence of given element\n",
    "t=t+(4,) #adding elements to a tuple\n",
    "print(t.index(3)) ```"
   ]
  },
  {
   "cell_type": "code",
   "execution_count": 47,
   "id": "2060aee3",
   "metadata": {},
   "outputs": [
    {
     "name": "stdout",
     "output_type": "stream",
     "text": [
      "10\n",
      "4\n"
     ]
    }
   ],
   "source": [
    "tup = (1,2,3,3,3,3,4,5,6,7,8,9,10)\n",
    "print(tup.index(8))\n",
    "print(tup.count(3))"
   ]
  },
  {
   "cell_type": "markdown",
   "id": "308197f2",
   "metadata": {},
   "source": [
    "LETS PRACTICE \n",
    "\n",
    "- WAP to ask the user to enter names of their 3 favourite movies and stores them in a list\n",
    "- WAP to check if a lsit contains a palindrome of elments "
   ]
  },
  {
   "cell_type": "code",
   "execution_count": 50,
   "id": "2bbd2912",
   "metadata": {},
   "outputs": [
    {
     "name": "stdout",
     "output_type": "stream",
     "text": [
      "Your favourite movies are: ['ddlj', 'war', 'k3g']\n"
     ]
    }
   ],
   "source": [
    "# WAP to ask the user to enter names of their 3 favourite movies and stores them in a list\n",
    "movies = input(\"Enter the names of your 3 favourite movies, separated by commas: \").split(',')\n",
    "print(\"Your favourite movies are:\", movies)\n",
    "list = [movies]"
   ]
  },
  {
   "cell_type": "code",
   "execution_count": 55,
   "id": "8fe4c6d6",
   "metadata": {},
   "outputs": [
    {
     "name": "stdout",
     "output_type": "stream",
     "text": [
      "['Tom & Jerry', 'Turbo', 'Naruto']\n"
     ]
    }
   ],
   "source": [
    "movie = []\n",
    "mov1 = input(\"enter the first movie name: \")\n",
    "mov2 = input(\"enter the second movie name: \")\n",
    "mov3 = input(\"enter the third movie name: \")\n",
    "\n",
    "movie.append(mov1)\n",
    "movie.append(mov2) \n",
    "movie.append(mov3)\n",
    "\n",
    "print(movie)"
   ]
  },
  {
   "cell_type": "code",
   "execution_count": 62,
   "id": "45be2da5",
   "metadata": {},
   "outputs": [
    {
     "name": "stdout",
     "output_type": "stream",
     "text": [
      "The list is a palindrome\n"
     ]
    }
   ],
   "source": [
    "# WAP to  check if a lsit contains a palindrome of elments\n",
    "list = [1,\"2\",3,\"2\",1]\n",
    "l=list.copy()\n",
    "l.reverse()\n",
    "if l==list:\n",
    "    print(\"The list is a palindrome\")\n",
    "else:\n",
    "    print(\"The list is not a palindrome\")"
   ]
  },
  {
   "cell_type": "code",
   "execution_count": 63,
   "id": "bea47696",
   "metadata": {},
   "outputs": [
    {
     "name": "stdout",
     "output_type": "stream",
     "text": [
      "l1 is a palindrome\n"
     ]
    }
   ],
   "source": [
    "l1=[1,2,1]\n",
    "l2=[1,2,3]\n",
    "\n",
    "copy_list = l1.copy()\n",
    "copy_list.reverse()\n",
    "if copy_list == l1:\n",
    "    print(\"l1 is a palindrome\") \n",
    "else:\n",
    "    print(\"l1 is not a palindrome\")"
   ]
  },
  {
   "cell_type": "markdown",
   "id": "1250fe18",
   "metadata": {},
   "source": []
  }
 ],
 "metadata": {
  "kernelspec": {
   "display_name": "base",
   "language": "python",
   "name": "python3"
  },
  "language_info": {
   "codemirror_mode": {
    "name": "ipython",
    "version": 3
   },
   "file_extension": ".py",
   "mimetype": "text/x-python",
   "name": "python",
   "nbconvert_exporter": "python",
   "pygments_lexer": "ipython3",
   "version": "3.13.5"
  }
 },
 "nbformat": 4,
 "nbformat_minor": 5
}
